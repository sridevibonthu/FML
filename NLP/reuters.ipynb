{
 "cells": [
  {
   "cell_type": "code",
   "execution_count": 1,
   "metadata": {},
   "outputs": [
    {
     "name": "stderr",
     "output_type": "stream",
     "text": [
      "c:\\Users\\sride\\AppData\\Local\\Programs\\Python\\Python39\\lib\\site-packages\\scipy\\__init__.py:138: UserWarning: A NumPy version >=1.16.5 and <1.23.0 is required for this version of SciPy (detected version 1.24.2)\n",
      "  warnings.warn(f\"A NumPy version >={np_minversion} and <{np_maxversion} is required for this version of \"\n",
      "[nltk_data] Downloading package reuters to\n",
      "[nltk_data]     C:\\Users\\sride\\AppData\\Roaming\\nltk_data...\n",
      "[nltk_data]   Package reuters is already up-to-date!\n"
     ]
    },
    {
     "data": {
      "text/plain": [
       "True"
      ]
     },
     "execution_count": 1,
     "metadata": {},
     "output_type": "execute_result"
    }
   ],
   "source": [
    "import nltk\n",
    "nltk.download('reuters')"
   ]
  },
  {
   "cell_type": "code",
   "execution_count": 2,
   "metadata": {},
   "outputs": [],
   "source": [
    "from nltk.corpus import reuters\n",
    "from nltk import bigrams, trigrams\n",
    "from collections import Counter, defaultdict\n",
    "\n",
    "# Create a placeholder for model\n",
    "model = defaultdict(lambda: defaultdict(lambda: 0))\n",
    "\n",
    "# Count frequency of co-occurance  \n",
    "for sentence in reuters.sents():\n",
    "    for w1, w2, w3 in trigrams(sentence, pad_right=True, pad_left=True):\n",
    "        model[(w1, w2)][w3] += 1\n",
    "\n",
    "# Let's transform the counts to probabilities\n",
    "for w1_w2 in model:\n",
    "    total_count = float(sum(model[w1_w2].values()))\n",
    "    for w3 in model[w1_w2]:\n",
    "        model[w1_w2][w3] /= total_count"
   ]
  },
  {
   "cell_type": "code",
   "execution_count": 3,
   "metadata": {},
   "outputs": [
    {
     "data": {
      "text/plain": [
       "{'public': 0.05555555555555555,\n",
       " 'European': 0.05555555555555555,\n",
       " 'Bank': 0.05555555555555555,\n",
       " 'price': 0.1111111111111111,\n",
       " 'emirate': 0.05555555555555555,\n",
       " 'overseas': 0.05555555555555555,\n",
       " 'newspaper': 0.05555555555555555,\n",
       " 'company': 0.16666666666666666,\n",
       " 'Turkish': 0.05555555555555555,\n",
       " 'increase': 0.05555555555555555,\n",
       " 'options': 0.05555555555555555,\n",
       " 'Higher': 0.05555555555555555,\n",
       " 'pound': 0.05555555555555555,\n",
       " 'Italian': 0.05555555555555555,\n",
       " 'time': 0.05555555555555555}"
      ]
     },
     "execution_count": 3,
     "metadata": {},
     "output_type": "execute_result"
    }
   ],
   "source": [
    "dict(model[\"today\",\"the\"])"
   ]
  },
  {
   "cell_type": "code",
   "execution_count": 6,
   "metadata": {},
   "outputs": [
    {
     "data": {
      "text/plain": [
       "{'yesterday': 0.004651162790697674,\n",
       " 'of': 0.3209302325581395,\n",
       " 'it': 0.05581395348837209,\n",
       " 'effect': 0.004651162790697674,\n",
       " 'cut': 0.009302325581395349,\n",
       " 'for': 0.05116279069767442,\n",
       " 'paid': 0.013953488372093023,\n",
       " 'to': 0.05581395348837209,\n",
       " 'increases': 0.013953488372093023,\n",
       " 'used': 0.004651162790697674,\n",
       " 'climate': 0.004651162790697674,\n",
       " '.': 0.023255813953488372,\n",
       " 'cuts': 0.009302325581395349,\n",
       " 'reductions': 0.004651162790697674,\n",
       " 'limit': 0.004651162790697674,\n",
       " 'now': 0.004651162790697674,\n",
       " 'moved': 0.004651162790697674,\n",
       " 'per': 0.013953488372093023,\n",
       " 'adjustments': 0.004651162790697674,\n",
       " '(': 0.009302325581395349,\n",
       " 'slumped': 0.004651162790697674,\n",
       " 'is': 0.018604651162790697,\n",
       " 'move': 0.004651162790697674,\n",
       " 'evolution': 0.004651162790697674,\n",
       " 'differentials': 0.009302325581395349,\n",
       " 'went': 0.004651162790697674,\n",
       " 'the': 0.013953488372093023,\n",
       " 'factor': 0.004651162790697674,\n",
       " 'Royal': 0.004651162790697674,\n",
       " ',': 0.018604651162790697,\n",
       " 'again': 0.004651162790697674,\n",
       " 'changes': 0.004651162790697674,\n",
       " 'holds': 0.004651162790697674,\n",
       " 'has': 0.009302325581395349,\n",
       " 'fall': 0.004651162790697674,\n",
       " '-': 0.004651162790697674,\n",
       " 'from': 0.004651162790697674,\n",
       " 'base': 0.004651162790697674,\n",
       " 'on': 0.004651162790697674,\n",
       " 'review': 0.004651162790697674,\n",
       " 'while': 0.004651162790697674,\n",
       " 'collapse': 0.004651162790697674,\n",
       " 'being': 0.004651162790697674,\n",
       " 'at': 0.023255813953488372,\n",
       " 'outlook': 0.004651162790697674,\n",
       " 'rises': 0.004651162790697674,\n",
       " 'drop': 0.004651162790697674,\n",
       " 'guaranteed': 0.004651162790697674,\n",
       " ',\"': 0.004651162790697674,\n",
       " 'stayed': 0.009302325581395349,\n",
       " 'structure': 0.004651162790697674,\n",
       " 'and': 0.004651162790697674,\n",
       " 'could': 0.004651162790697674,\n",
       " 'related': 0.004651162790697674,\n",
       " 'hike': 0.004651162790697674,\n",
       " 'we': 0.004651162790697674,\n",
       " 'adjustment': 0.023255813953488372,\n",
       " 'policy': 0.004651162790697674,\n",
       " 'was': 0.009302325581395349,\n",
       " 'revision': 0.004651162790697674,\n",
       " 'freeze': 0.009302325581395349,\n",
       " 'led': 0.004651162790697674,\n",
       " 'action': 0.004651162790697674,\n",
       " 'zone': 0.004651162790697674,\n",
       " 'slump': 0.004651162790697674,\n",
       " 'had': 0.004651162790697674,\n",
       " 'difference': 0.004651162790697674,\n",
       " 'in': 0.004651162790697674,\n",
       " 'raise': 0.004651162790697674,\n",
       " 'increase': 0.009302325581395349,\n",
       " 'will': 0.013953488372093023,\n",
       " 'support': 0.004651162790697674,\n",
       " 'gap': 0.004651162790697674,\n",
       " 'would': 0.009302325581395349,\n",
       " 'projected': 0.004651162790697674,\n",
       " 'approached': 0.004651162790697674,\n",
       " 'instability': 0.004651162790697674}"
      ]
     },
     "execution_count": 6,
     "metadata": {},
     "output_type": "execute_result"
    }
   ],
   "source": [
    "dict(model[\"the\",\"price\"])"
   ]
  },
  {
   "cell_type": "code",
   "execution_count": null,
   "metadata": {},
   "outputs": [],
   "source": []
  }
 ],
 "metadata": {
  "interpreter": {
   "hash": "919fe2480bb706e5146ae2a6701d2e49cfca2a67d7348401ddc7f34b5ccfa959"
  },
  "kernelspec": {
   "display_name": "Python 3.9.0 64-bit",
   "language": "python",
   "name": "python3"
  },
  "language_info": {
   "codemirror_mode": {
    "name": "ipython",
    "version": 3
   },
   "file_extension": ".py",
   "mimetype": "text/x-python",
   "name": "python",
   "nbconvert_exporter": "python",
   "pygments_lexer": "ipython3",
   "version": "3.9.0"
  },
  "orig_nbformat": 4
 },
 "nbformat": 4,
 "nbformat_minor": 2
}
